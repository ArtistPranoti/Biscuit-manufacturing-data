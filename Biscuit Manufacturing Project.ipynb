{
 "cells": [
  {
   "cell_type": "code",
   "execution_count": 1,
   "id": "45e72b27",
   "metadata": {},
   "outputs": [],
   "source": [
    "import pandas as pd"
   ]
  },
  {
   "cell_type": "code",
   "execution_count": 2,
   "id": "628bca0f",
   "metadata": {},
   "outputs": [
    {
     "name": "stdout",
     "output_type": "stream",
     "text": [
      "                          Machine       StartDateTime         EndDateTime  \\\n",
      "0        Biscuit Filling Machine  2021-07-01 00:23:33 2021-07-01 00:25:26   \n",
      "1        Biscuit Filling Machine  2021-07-01 00:25:26 2021-07-01 00:31:33   \n",
      "2        Biscuit Filling Machine  2021-07-01 00:31:33 2021-07-01 00:40:34   \n",
      "3        Biscuit Filling Machine  2021-07-01 00:40:34 2021-07-01 00:42:57   \n",
      "4        Biscuit Filling Machine  2021-07-01 00:42:57 2021-07-01 00:43:49   \n",
      "...                           ...                 ...                 ...   \n",
      "8039  Biscuit Sprinkling Machine  2021-07-31 23:58:57 2021-07-31 23:59:19   \n",
      "8040  Biscuit Sprinkling Machine  2021-07-31 23:59:19 2021-07-31 23:59:27   \n",
      "8041     Biscuit Filling Machine  2021-07-31 23:59:21 2021-07-31 23:59:21   \n",
      "8042     Biscuit Filling Machine  2021-07-31 23:59:21 2021-08-01 00:01:30   \n",
      "8043  Biscuit Sprinkling Machine  2021-07-31 23:59:27 2021-08-01 00:00:17   \n",
      "\n",
      "      Duration  TotalBiscuitsMade  GoodMadeBiscuits              OEE Category  \\\n",
      "0     1.883333             119795             21061  CC (Changeover Cleaning)   \n",
      "1     6.116667             123671             25185             NO (No Order)   \n",
      "2     9.016666             123541             24851  CC (Changeover Cleaning)   \n",
      "3     2.383333             124798             26282             NO (No Order)   \n",
      "4     0.866667             125036             26272  CC (Changeover Cleaning)   \n",
      "...        ...                ...               ...                       ...   \n",
      "8039  0.366667                390               346  CC (Changeover Cleaning)   \n",
      "8040  0.133333                638                87             NO (No Order)   \n",
      "8041  0.000000              18752                77  CC (Changeover Cleaning)   \n",
      "8042  2.150000              18670                75  CC (Changeover Cleaning)   \n",
      "8043  0.833333                714                30  CC (Changeover Cleaning)   \n",
      "\n",
      "             Product  \n",
      "0       Jammy Creams  \n",
      "1       Jammy Creams  \n",
      "2       Jammy Creams  \n",
      "3       Jammy Creams  \n",
      "4       Jammy Creams  \n",
      "...              ...  \n",
      "8039     Party Rings  \n",
      "8040     Party Rings  \n",
      "8041  Bourbon Creams  \n",
      "8042  Bourbon Creams  \n",
      "8043     Party Rings  \n",
      "\n",
      "[8044 rows x 8 columns]\n"
     ]
    }
   ],
   "source": [
    "data=pd.read_excel(r\"C:\\OEE Manufacturing Data.xlsx\")\n",
    "print(data)"
   ]
  },
  {
   "cell_type": "code",
   "execution_count": 4,
   "id": "96303b6c",
   "metadata": {},
   "outputs": [
    {
     "name": "stdout",
     "output_type": "stream",
     "text": [
      "<class 'pandas.core.frame.DataFrame'>\n",
      "RangeIndex: 8044 entries, 0 to 8043\n",
      "Data columns (total 8 columns):\n",
      " #   Column             Non-Null Count  Dtype         \n",
      "---  ------             --------------  -----         \n",
      " 0   Machine            8044 non-null   object        \n",
      " 1   StartDateTime      8044 non-null   datetime64[ns]\n",
      " 2   EndDateTime        8044 non-null   datetime64[ns]\n",
      " 3   Duration           8044 non-null   float64       \n",
      " 4   TotalBiscuitsMade  8044 non-null   int64         \n",
      " 5   GoodMadeBiscuits   8044 non-null   int64         \n",
      " 6   OEE Category       8044 non-null   object        \n",
      " 7   Product            8044 non-null   object        \n",
      "dtypes: datetime64[ns](2), float64(1), int64(2), object(3)\n",
      "memory usage: 502.9+ KB\n"
     ]
    }
   ],
   "source": [
    "data.info()"
   ]
  },
  {
   "cell_type": "code",
   "execution_count": 5,
   "id": "6e59d86e",
   "metadata": {},
   "outputs": [
    {
     "data": {
      "text/html": [
       "<div>\n",
       "<style scoped>\n",
       "    .dataframe tbody tr th:only-of-type {\n",
       "        vertical-align: middle;\n",
       "    }\n",
       "\n",
       "    .dataframe tbody tr th {\n",
       "        vertical-align: top;\n",
       "    }\n",
       "\n",
       "    .dataframe thead th {\n",
       "        text-align: right;\n",
       "    }\n",
       "</style>\n",
       "<table border=\"1\" class=\"dataframe\">\n",
       "  <thead>\n",
       "    <tr style=\"text-align: right;\">\n",
       "      <th></th>\n",
       "      <th>Machine</th>\n",
       "      <th>StartDateTime</th>\n",
       "      <th>EndDateTime</th>\n",
       "      <th>Duration</th>\n",
       "      <th>TotalBiscuitsMade</th>\n",
       "      <th>GoodMadeBiscuits</th>\n",
       "      <th>OEE Category</th>\n",
       "      <th>Product</th>\n",
       "    </tr>\n",
       "  </thead>\n",
       "  <tbody>\n",
       "    <tr>\n",
       "      <th>0</th>\n",
       "      <td>Biscuit Filling Machine</td>\n",
       "      <td>2021-07-01 00:23:33</td>\n",
       "      <td>2021-07-01 00:25:26</td>\n",
       "      <td>1.883333</td>\n",
       "      <td>119795</td>\n",
       "      <td>21061</td>\n",
       "      <td>CC (Changeover Cleaning)</td>\n",
       "      <td>Jammy Creams</td>\n",
       "    </tr>\n",
       "    <tr>\n",
       "      <th>1</th>\n",
       "      <td>Biscuit Filling Machine</td>\n",
       "      <td>2021-07-01 00:25:26</td>\n",
       "      <td>2021-07-01 00:31:33</td>\n",
       "      <td>6.116667</td>\n",
       "      <td>123671</td>\n",
       "      <td>25185</td>\n",
       "      <td>NO (No Order)</td>\n",
       "      <td>Jammy Creams</td>\n",
       "    </tr>\n",
       "    <tr>\n",
       "      <th>2</th>\n",
       "      <td>Biscuit Filling Machine</td>\n",
       "      <td>2021-07-01 00:31:33</td>\n",
       "      <td>2021-07-01 00:40:34</td>\n",
       "      <td>9.016666</td>\n",
       "      <td>123541</td>\n",
       "      <td>24851</td>\n",
       "      <td>CC (Changeover Cleaning)</td>\n",
       "      <td>Jammy Creams</td>\n",
       "    </tr>\n",
       "    <tr>\n",
       "      <th>3</th>\n",
       "      <td>Biscuit Filling Machine</td>\n",
       "      <td>2021-07-01 00:40:34</td>\n",
       "      <td>2021-07-01 00:42:57</td>\n",
       "      <td>2.383333</td>\n",
       "      <td>124798</td>\n",
       "      <td>26282</td>\n",
       "      <td>NO (No Order)</td>\n",
       "      <td>Jammy Creams</td>\n",
       "    </tr>\n",
       "    <tr>\n",
       "      <th>4</th>\n",
       "      <td>Biscuit Filling Machine</td>\n",
       "      <td>2021-07-01 00:42:57</td>\n",
       "      <td>2021-07-01 00:43:49</td>\n",
       "      <td>0.866667</td>\n",
       "      <td>125036</td>\n",
       "      <td>26272</td>\n",
       "      <td>CC (Changeover Cleaning)</td>\n",
       "      <td>Jammy Creams</td>\n",
       "    </tr>\n",
       "  </tbody>\n",
       "</table>\n",
       "</div>"
      ],
      "text/plain": [
       "                    Machine       StartDateTime         EndDateTime  Duration  \\\n",
       "0  Biscuit Filling Machine  2021-07-01 00:23:33 2021-07-01 00:25:26  1.883333   \n",
       "1  Biscuit Filling Machine  2021-07-01 00:25:26 2021-07-01 00:31:33  6.116667   \n",
       "2  Biscuit Filling Machine  2021-07-01 00:31:33 2021-07-01 00:40:34  9.016666   \n",
       "3  Biscuit Filling Machine  2021-07-01 00:40:34 2021-07-01 00:42:57  2.383333   \n",
       "4  Biscuit Filling Machine  2021-07-01 00:42:57 2021-07-01 00:43:49  0.866667   \n",
       "\n",
       "   TotalBiscuitsMade  GoodMadeBiscuits              OEE Category       Product  \n",
       "0             119795             21061  CC (Changeover Cleaning)  Jammy Creams  \n",
       "1             123671             25185             NO (No Order)  Jammy Creams  \n",
       "2             123541             24851  CC (Changeover Cleaning)  Jammy Creams  \n",
       "3             124798             26282             NO (No Order)  Jammy Creams  \n",
       "4             125036             26272  CC (Changeover Cleaning)  Jammy Creams  "
      ]
     },
     "execution_count": 5,
     "metadata": {},
     "output_type": "execute_result"
    }
   ],
   "source": [
    "data.head()"
   ]
  },
  {
   "cell_type": "code",
   "execution_count": 6,
   "id": "88e30c6c",
   "metadata": {},
   "outputs": [],
   "source": [
    "#null values\n",
    "null_values = data.isnull().sum()"
   ]
  },
  {
   "cell_type": "code",
   "execution_count": 8,
   "id": "44ea4f41",
   "metadata": {},
   "outputs": [],
   "source": [
    "null_values_column = data['Duration'].isnull().sum()"
   ]
  },
  {
   "cell_type": "code",
   "execution_count": 9,
   "id": "1634b519",
   "metadata": {},
   "outputs": [
    {
     "name": "stdout",
     "output_type": "stream",
     "text": [
      "Null values in the entire DataFrame:\n",
      "Machine              0\n",
      "StartDateTime        0\n",
      "EndDateTime          0\n",
      "Duration             0\n",
      "TotalBiscuitsMade    0\n",
      "GoodMadeBiscuits     0\n",
      "OEE Category         0\n",
      "Product              0\n",
      "dtype: int64\n",
      "\n",
      "Null values in a specific column:\n",
      "0\n"
     ]
    }
   ],
   "source": [
    "print(\"Null values in the entire DataFrame:\")\n",
    "print(null_values)\n",
    "\n",
    "print(\"\\nNull values in a specific column:\")\n",
    "print(null_values_column)"
   ]
  },
  {
   "cell_type": "code",
   "execution_count": 12,
   "id": "b29e4197",
   "metadata": {},
   "outputs": [],
   "source": [
    "# Assuming 'df' is your DataFrame\n",
    "# Check for duplicate rows in the entire DataFrame\n",
    "duplicate_rows = data[data.duplicated()]"
   ]
  },
  {
   "cell_type": "code",
   "execution_count": 15,
   "id": "07edd0dc",
   "metadata": {},
   "outputs": [],
   "source": [
    "duplicate_rows_columns = data[data.duplicated(subset=['Product'])]"
   ]
  },
  {
   "cell_type": "code",
   "execution_count": 16,
   "id": "0a7603ec",
   "metadata": {},
   "outputs": [
    {
     "name": "stdout",
     "output_type": "stream",
     "text": [
      "Duplicate rows in the entire DataFrame:\n",
      "Empty DataFrame\n",
      "Columns: [Machine, StartDateTime, EndDateTime, Duration, TotalBiscuitsMade, GoodMadeBiscuits, OEE Category, Product]\n",
      "Index: []\n",
      "\n",
      "Duplicate rows based on specific columns:\n",
      "                          Machine       StartDateTime         EndDateTime  \\\n",
      "1        Biscuit Filling Machine  2021-07-01 00:25:26 2021-07-01 00:31:33   \n",
      "2        Biscuit Filling Machine  2021-07-01 00:31:33 2021-07-01 00:40:34   \n",
      "3        Biscuit Filling Machine  2021-07-01 00:40:34 2021-07-01 00:42:57   \n",
      "4        Biscuit Filling Machine  2021-07-01 00:42:57 2021-07-01 00:43:49   \n",
      "5        Biscuit Filling Machine  2021-07-01 00:43:49 2021-07-01 00:45:35   \n",
      "...                           ...                 ...                 ...   \n",
      "8039  Biscuit Sprinkling Machine  2021-07-31 23:58:57 2021-07-31 23:59:19   \n",
      "8040  Biscuit Sprinkling Machine  2021-07-31 23:59:19 2021-07-31 23:59:27   \n",
      "8041     Biscuit Filling Machine  2021-07-31 23:59:21 2021-07-31 23:59:21   \n",
      "8042     Biscuit Filling Machine  2021-07-31 23:59:21 2021-08-01 00:01:30   \n",
      "8043  Biscuit Sprinkling Machine  2021-07-31 23:59:27 2021-08-01 00:00:17   \n",
      "\n",
      "      Duration  TotalBiscuitsMade  GoodMadeBiscuits              OEE Category  \\\n",
      "1     6.116667             123671             25185             NO (No Order)   \n",
      "2     9.016666             123541             24851  CC (Changeover Cleaning)   \n",
      "3     2.383333             124798             26282             NO (No Order)   \n",
      "4     0.866667             125036             26272  CC (Changeover Cleaning)   \n",
      "5     1.766667             125796             26788             NO (No Order)   \n",
      "...        ...                ...               ...                       ...   \n",
      "8039  0.366667                390               346  CC (Changeover Cleaning)   \n",
      "8040  0.133333                638                87             NO (No Order)   \n",
      "8041  0.000000              18752                77  CC (Changeover Cleaning)   \n",
      "8042  2.150000              18670                75  CC (Changeover Cleaning)   \n",
      "8043  0.833333                714                30  CC (Changeover Cleaning)   \n",
      "\n",
      "             Product  \n",
      "1       Jammy Creams  \n",
      "2       Jammy Creams  \n",
      "3       Jammy Creams  \n",
      "4       Jammy Creams  \n",
      "5       Jammy Creams  \n",
      "...              ...  \n",
      "8039     Party Rings  \n",
      "8040     Party Rings  \n",
      "8041  Bourbon Creams  \n",
      "8042  Bourbon Creams  \n",
      "8043     Party Rings  \n",
      "\n",
      "[8026 rows x 8 columns]\n"
     ]
    }
   ],
   "source": [
    "print(\"Duplicate rows in the entire DataFrame:\")\n",
    "print(duplicate_rows)\n",
    "\n",
    "print(\"\\nDuplicate rows based on specific columns:\")\n",
    "print(duplicate_rows_columns)"
   ]
  },
  {
   "cell_type": "code",
   "execution_count": null,
   "id": "d654abad",
   "metadata": {},
   "outputs": [],
   "source": []
  }
 ],
 "metadata": {
  "kernelspec": {
   "display_name": "Python 3 (ipykernel)",
   "language": "python",
   "name": "python3"
  },
  "language_info": {
   "codemirror_mode": {
    "name": "ipython",
    "version": 3
   },
   "file_extension": ".py",
   "mimetype": "text/x-python",
   "name": "python",
   "nbconvert_exporter": "python",
   "pygments_lexer": "ipython3",
   "version": "3.9.12"
  }
 },
 "nbformat": 4,
 "nbformat_minor": 5
}
